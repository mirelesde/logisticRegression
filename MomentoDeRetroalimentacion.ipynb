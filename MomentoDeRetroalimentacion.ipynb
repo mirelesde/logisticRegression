{
  "nbformat": 4,
  "nbformat_minor": 0,
  "metadata": {
    "colab": {
      "provenance": []
    },
    "kernelspec": {
      "name": "python3",
      "display_name": "Python 3"
    },
    "language_info": {
      "name": "python"
    }
  },
  "cells": [
    {
      "cell_type": "markdown",
      "source": [
        "# Cargando datos\n",
        "\n",
        "Cargamos los datos que utilizaremos. Utillizaremos el clásico wine dataset, un dataset para clasificación que tiene tres clases. Los tres vinos son italianos, las clases representan de qué cultivo son (no tienen nombre, solo 1, 2 o 3). En este caso solo queremos predecir si cada caso corrsponde con la clase 2 o no."
      ],
      "metadata": {
        "id": "avdJoM-n5WcW"
      }
    },
    {
      "cell_type": "code",
      "source": [
        "from sklearn.datasets import load_wine\n",
        "from sklearn.model_selection import train_test_split\n",
        "wine = load_wine()\n",
        "X = wine[\"data\"]\n",
        "y = (wine[\"target\"] == 2).astype(int) # Si el vino es\n"
      ],
      "metadata": {
        "id": "baCeFucA4KA2"
      },
      "execution_count": 168,
      "outputs": []
    },
    {
      "cell_type": "markdown",
      "source": [
        "# Escalamiento"
      ],
      "metadata": {
        "id": "-AxKd7Ls5sf8"
      }
    },
    {
      "cell_type": "markdown",
      "source": [
        "Escalamos los features para acelerar la convergencia y mejorar el performance del modelo"
      ],
      "metadata": {
        "id": "O8xc8D1V_EFc"
      }
    },
    {
      "cell_type": "code",
      "source": [
        "from sklearn.preprocessing import StandardScaler\n",
        "sc = StandardScaler()\n",
        "X = sc.fit_transform(X)"
      ],
      "metadata": {
        "id": "oQ1OMUKf6Idp"
      },
      "execution_count": 169,
      "outputs": []
    },
    {
      "cell_type": "markdown",
      "source": [
        "# Dividiendo los datos en test y train"
      ],
      "metadata": {
        "id": "x7b4RCq2z2VM"
      }
    },
    {
      "cell_type": "markdown",
      "source": [
        "Usamos la función *test_train_split* para dividir nuestros datos en un conjunto de entrenamiento y otro de prueba."
      ],
      "metadata": {
        "id": "UeY0poFJ_FDH"
      }
    },
    {
      "cell_type": "code",
      "source": [
        "X_train, X_test, y_train, y_test = train_test_split(X, y, test_size = 0.2, shuffle = True)\n",
        "print(X_train.shape)\n",
        "print(X_test.shape)\n",
        "print(y_train.shape)\n",
        "print(y_test.shape)"
      ],
      "metadata": {
        "colab": {
          "base_uri": "https://localhost:8080/"
        },
        "id": "zvrME8Zjz7nj",
        "outputId": "6fff4897-dd4c-47b0-ff3c-e00a5ca0e18a"
      },
      "execution_count": 170,
      "outputs": [
        {
          "output_type": "stream",
          "name": "stdout",
          "text": [
            "(142, 13)\n",
            "(36, 13)\n",
            "(142,)\n",
            "(36,)\n"
          ]
        }
      ]
    },
    {
      "cell_type": "markdown",
      "source": [
        "# Creando Theta"
      ],
      "metadata": {
        "id": "MOx49RGR0A7j"
      }
    },
    {
      "cell_type": "markdown",
      "source": [
        "Para theta, tenemos un theta para cada feature. También añadimos uno final que es un bias."
      ],
      "metadata": {
        "id": "voqV9_JU_cv4"
      }
    },
    {
      "cell_type": "code",
      "source": [
        "import numpy as np\n",
        "theta = np.random.randn(len(X_train[0]) + 1, 1)\n",
        "theta"
      ],
      "metadata": {
        "colab": {
          "base_uri": "https://localhost:8080/"
        },
        "id": "icdL1Wwl6bE1",
        "outputId": "c2452db7-9f01-403f-867a-2f65acbfd207"
      },
      "execution_count": 171,
      "outputs": [
        {
          "output_type": "execute_result",
          "data": {
            "text/plain": [
              "array([[ 1.0572776 ],\n",
              "       [ 0.84188192],\n",
              "       [ 0.06329814],\n",
              "       [ 1.70986935],\n",
              "       [ 0.25147447],\n",
              "       [-0.39390336],\n",
              "       [ 0.63540096],\n",
              "       [ 1.13264269],\n",
              "       [ 0.38746993],\n",
              "       [ 0.89410252],\n",
              "       [-0.06788595],\n",
              "       [-0.31127277],\n",
              "       [ 1.05581012],\n",
              "       [ 0.13599554]])"
            ]
          },
          "metadata": {},
          "execution_count": 171
        }
      ]
    },
    {
      "cell_type": "markdown",
      "source": [
        "Añadimos un uno al vector de features para que el bias que añadimos anteriormente si sea considerado al multiplicar."
      ],
      "metadata": {
        "id": "YVg22WHH_pow"
      }
    },
    {
      "cell_type": "code",
      "source": [
        "X_vect = np.c_[np.ones((len(X_train), 1)), X_train]\n",
        "print(X_vect[:5])\n",
        "print(X_vect.shape)"
      ],
      "metadata": {
        "colab": {
          "base_uri": "https://localhost:8080/"
        },
        "id": "I_82SJpA7C3a",
        "outputId": "f59c3f63-5d86-4194-99e2-b42f190e11e5"
      },
      "execution_count": 172,
      "outputs": [
        {
          "output_type": "stream",
          "name": "stdout",
          "text": [
            "[[ 1.         -0.82839089 -1.20856726 -1.5225111  -1.40982117  2.54582528\n",
            "  -0.633101   -0.17998078 -0.09551669  2.04836353 -0.71723991  0.44992405\n",
            "  -0.42611337  0.0098934 ]\n",
            " [ 1.          0.36981612 -0.55327317 -0.82799632 -0.74919419 -0.40313502\n",
            "   0.16806478  0.16136791 -0.74014117 -0.4220751  -0.47932642  0.2744305\n",
            "   0.22361033  1.71359755]\n",
            " [ 1.          0.13511578 -0.3916938   1.40176163  1.80322825  1.14155847\n",
            "  -0.15240153 -0.75224181 -0.82071924 -0.05413743  0.88326902 -1.52437837\n",
            "  -1.81030733 -1.02506707]\n",
            " [ 1.         -0.18605311 -0.66099274  0.56103322 -0.50896619 -0.33292168\n",
            "   0.2962513   0.34208192 -0.82071924 -0.22934584 -0.48797782  0.58154421\n",
            "   1.43831115  0.85378424]\n",
            " [ 1.          1.39508604  1.58316512  1.36520822  1.50294326 -0.26270834\n",
            "  -0.39275127 -1.2743045   1.59662258 -0.4220751   1.79166599 -1.52437837\n",
            "  -1.42894777 -0.59516041]]\n",
            "(142, 14)\n"
          ]
        }
      ]
    },
    {
      "cell_type": "code",
      "source": [
        "import math\n",
        "def sigmoid_function(X):\n",
        "  return 1/(1+math.e**(-X)) # esta es la forma general de un modelo logístico\n",
        "\n",
        "import matplotlib.pyplot as plt\n",
        "\n",
        "def log_regression(X, y, theta, alpha, epochs):\n",
        "  y_ = np.reshape(y, (len(y), 1)) # para que shape sea (len(y),1)\n",
        "  N = len(X)\n",
        "  avg_loss_list = []\n",
        "  for epoch in range(epochs):\n",
        "    sigmoid_x_theta = sigmoid_function(X_vect.dot(theta))\n",
        "    grad = (1/N) * X_vect.T.dot(sigmoid_x_theta - y_)\n",
        "    theta = theta - (alpha * grad)\n",
        "    hyp = sigmoid_function(X_vect.dot(theta))\n",
        "    avg_loss = -np.sum(np.dot(y_.T, np.log(hyp) + np.dot((1-y_).T, np.log(1-hyp)))) / len(hyp)\n",
        "    if epoch % 10000 == 0:\n",
        "      print('epoch: {} | avg_loss: {}'.format(epoch, avg_loss))\n",
        "\n",
        "    avg_loss_list.append(avg_loss)\n",
        "  plt.plot(np.arange(1, epochs), avg_loss_list[1:], color='red')\n",
        "  plt.title('Cost function')\n",
        "  plt.xlabel('Epochs')\n",
        "  plt.ylabel('Cost')\n",
        "  plt.show()"
      ],
      "metadata": {
        "id": "aQ_GrKJ17KaN"
      },
      "execution_count": 173,
      "outputs": []
    },
    {
      "cell_type": "code",
      "source": [
        "epochs = 1000000\n",
        "log_regression(X_train, y_train, theta, alpha, epochs)"
      ],
      "metadata": {
        "colab": {
          "base_uri": "https://localhost:8080/",
          "height": 1000
        },
        "id": "IizQbC2a7O1g",
        "outputId": "1c6126db-4c3a-4f64-85cd-250708dc0ca3"
      },
      "execution_count": 174,
      "outputs": [
        {
          "output_type": "stream",
          "name": "stdout",
          "text": [
            "epoch: 0 | avg_loss: 38.74754423581463\n",
            "epoch: 10000 | avg_loss: 0.009527184743469181\n",
            "epoch: 20000 | avg_loss: 0.004947974062234787\n",
            "epoch: 30000 | avg_loss: 0.003359879920971949\n",
            "epoch: 40000 | avg_loss: 0.002549320909057094\n",
            "epoch: 50000 | avg_loss: 0.002056372187895425\n",
            "epoch: 60000 | avg_loss: 0.001724483873172596\n",
            "epoch: 70000 | avg_loss: 0.0014855983459254596\n",
            "epoch: 80000 | avg_loss: 0.0013053199740277054\n",
            "epoch: 90000 | avg_loss: 0.0011643767588486523\n",
            "epoch: 100000 | avg_loss: 0.0010511242000886395\n",
            "epoch: 110000 | avg_loss: 0.0009581081535143468\n",
            "epoch: 120000 | avg_loss: 0.0008803337607873532\n",
            "epoch: 130000 | avg_loss: 0.0008143275577253895\n"
          ]
        },
        {
          "output_type": "stream",
          "name": "stderr",
          "text": [
            "<ipython-input-173-3248a1e15091>:16: RuntimeWarning: divide by zero encountered in log\n",
            "  avg_loss = -np.sum(np.dot(y_.T, np.log(hyp) + np.dot((1-y_).T, np.log(1-hyp)))) / len(hyp)\n"
          ]
        },
        {
          "output_type": "stream",
          "name": "stdout",
          "text": [
            "epoch: 140000 | avg_loss: nan\n",
            "epoch: 150000 | avg_loss: nan\n",
            "epoch: 160000 | avg_loss: nan\n",
            "epoch: 170000 | avg_loss: nan\n",
            "epoch: 180000 | avg_loss: nan\n",
            "epoch: 190000 | avg_loss: nan\n",
            "epoch: 200000 | avg_loss: nan\n",
            "epoch: 210000 | avg_loss: nan\n",
            "epoch: 220000 | avg_loss: nan\n",
            "epoch: 230000 | avg_loss: nan\n",
            "epoch: 240000 | avg_loss: nan\n",
            "epoch: 250000 | avg_loss: nan\n",
            "epoch: 260000 | avg_loss: nan\n",
            "epoch: 270000 | avg_loss: nan\n",
            "epoch: 280000 | avg_loss: nan\n",
            "epoch: 290000 | avg_loss: nan\n",
            "epoch: 300000 | avg_loss: nan\n",
            "epoch: 310000 | avg_loss: nan\n",
            "epoch: 320000 | avg_loss: nan\n",
            "epoch: 330000 | avg_loss: nan\n",
            "epoch: 340000 | avg_loss: nan\n",
            "epoch: 350000 | avg_loss: nan\n",
            "epoch: 360000 | avg_loss: nan\n",
            "epoch: 370000 | avg_loss: nan\n",
            "epoch: 380000 | avg_loss: nan\n",
            "epoch: 390000 | avg_loss: nan\n",
            "epoch: 400000 | avg_loss: nan\n",
            "epoch: 410000 | avg_loss: nan\n",
            "epoch: 420000 | avg_loss: nan\n",
            "epoch: 430000 | avg_loss: nan\n",
            "epoch: 440000 | avg_loss: nan\n",
            "epoch: 450000 | avg_loss: nan\n",
            "epoch: 460000 | avg_loss: nan\n",
            "epoch: 470000 | avg_loss: nan\n",
            "epoch: 480000 | avg_loss: nan\n",
            "epoch: 490000 | avg_loss: nan\n",
            "epoch: 500000 | avg_loss: nan\n",
            "epoch: 510000 | avg_loss: nan\n",
            "epoch: 520000 | avg_loss: nan\n",
            "epoch: 530000 | avg_loss: nan\n",
            "epoch: 540000 | avg_loss: nan\n",
            "epoch: 550000 | avg_loss: nan\n",
            "epoch: 560000 | avg_loss: nan\n",
            "epoch: 570000 | avg_loss: nan\n",
            "epoch: 580000 | avg_loss: nan\n",
            "epoch: 590000 | avg_loss: nan\n",
            "epoch: 600000 | avg_loss: nan\n",
            "epoch: 610000 | avg_loss: nan\n",
            "epoch: 620000 | avg_loss: nan\n",
            "epoch: 630000 | avg_loss: nan\n",
            "epoch: 640000 | avg_loss: nan\n",
            "epoch: 650000 | avg_loss: nan\n",
            "epoch: 660000 | avg_loss: nan\n",
            "epoch: 670000 | avg_loss: nan\n",
            "epoch: 680000 | avg_loss: nan\n",
            "epoch: 690000 | avg_loss: nan\n",
            "epoch: 700000 | avg_loss: nan\n",
            "epoch: 710000 | avg_loss: nan\n",
            "epoch: 720000 | avg_loss: nan\n",
            "epoch: 730000 | avg_loss: nan\n",
            "epoch: 740000 | avg_loss: nan\n",
            "epoch: 750000 | avg_loss: nan\n",
            "epoch: 760000 | avg_loss: nan\n",
            "epoch: 770000 | avg_loss: nan\n",
            "epoch: 780000 | avg_loss: nan\n",
            "epoch: 790000 | avg_loss: nan\n",
            "epoch: 800000 | avg_loss: nan\n",
            "epoch: 810000 | avg_loss: nan\n",
            "epoch: 820000 | avg_loss: nan\n",
            "epoch: 830000 | avg_loss: nan\n",
            "epoch: 840000 | avg_loss: nan\n",
            "epoch: 850000 | avg_loss: nan\n",
            "epoch: 860000 | avg_loss: nan\n",
            "epoch: 870000 | avg_loss: nan\n",
            "epoch: 880000 | avg_loss: nan\n",
            "epoch: 890000 | avg_loss: nan\n",
            "epoch: 900000 | avg_loss: nan\n",
            "epoch: 910000 | avg_loss: nan\n",
            "epoch: 920000 | avg_loss: nan\n",
            "epoch: 930000 | avg_loss: nan\n",
            "epoch: 940000 | avg_loss: nan\n",
            "epoch: 950000 | avg_loss: nan\n",
            "epoch: 960000 | avg_loss: nan\n",
            "epoch: 970000 | avg_loss: nan\n",
            "epoch: 980000 | avg_loss: nan\n",
            "epoch: 990000 | avg_loss: nan\n"
          ]
        },
        {
          "output_type": "display_data",
          "data": {
            "text/plain": [
              "<Figure size 640x480 with 1 Axes>"
            ],
            "image/png": "[encoded data removed]"
          },
          "metadata": {}
        }
      ]
    },
    {
      "cell_type": "markdown",
      "source": [
        "# Probando el modelo con los datos de preuba"
      ],
      "metadata": {
        "id": "AZtYMFyZ02jy"
      }
    },
    {
      "cell_type": "code",
      "source": [
        "X_test = np.c_[np.ones((len(X_test), 1)), X_test]\n",
        "print(X_test)"
      ],
      "metadata": {
        "colab": {
          "base_uri": "https://localhost:8080/"
        },
        "id": "YI0RN8dt2UDp",
        "outputId": "b337bb76-d26a-48ee-e066-e55630811f77"
      },
      "execution_count": 175,
      "outputs": [
        {
          "output_type": "stream",
          "name": "stdout",
          "text": [
            "[[ 1.00000000e+00 -1.96483466e+00 -1.43298305e+00  4.87926405e-01\n",
            "   4.51945783e-01 -8.24415067e-01  2.96251299e-01 -1.93461003e-02\n",
            "   4.68529735e-01 -2.64387527e-01 -8.55662307e-01  6.25417599e-01\n",
            "  -4.26113366e-01 -9.96406622e-01]\n",
            " [ 1.00000000e+00 -1.70542902e+00 -3.10904118e-01 -3.16248596e-01\n",
            "  -4.48909194e-01 -1.22281661e-01  1.16151034e+00  2.31645580e-01\n",
            "  -1.54592178e+00 -4.22075098e-01 -7.82125409e-01  8.88657922e-01\n",
            "   4.91974464e-01 -1.27982657e+00]\n",
            " [ 1.00000000e+00  1.35115780e-01 -1.19061400e+00 -2.43634632e+00\n",
            "  -1.34976417e+00 -1.52654847e+00  1.09741707e+00  1.15529496e+00\n",
            "  -8.20719236e-01  1.20736314e+00  1.04643056e-01  7.13164373e-01\n",
            "   8.02711883e-01 -7.79861048e-01]\n",
            " [ 1.00000000e+00 -1.13720713e+00 -9.03361794e-01 -2.43141777e-01\n",
            "   1.23268676e+00 -2.08825520e+00 -1.52401534e-01 -4.41012124e-01\n",
            "   4.68529735e-01 -3.69512574e-01 -1.43530608e+00  4.93797437e-01\n",
            "   8.45085168e-01 -3.88168318e-01]\n",
            " [ 1.00000000e+00  8.26864161e-01 -9.75174845e-01 -1.63217132e+00\n",
            "  -4.48909194e-01 -4.03135023e-01 -3.12634689e-01 -2.40218779e-01\n",
            "  -3.37250872e-01 -1.50836726e+00 -5.44211919e-01  1.19577163e+00\n",
            "  -2.14246944e-01 -3.72245850e-01]\n",
            " [ 1.00000000e+00  4.93342620e-01  2.03199669e+00  1.80384913e+00\n",
            "   1.65308575e+00  8.60705108e-01 -5.04914475e-01 -1.07351116e+00\n",
            "  -7.40141175e-01 -8.42575290e-01  1.48886700e+00 -1.26113805e+00\n",
            "  -9.76966064e-01 -3.72245850e-01]\n",
            " [ 1.00000000e+00 -1.86053111e-01  8.38104709e-01  7.80353678e-01\n",
            "   7.52230776e-01  4.39425064e-01 -1.03368389e+00 -1.43493918e+00\n",
            "   1.91893483e+00 -1.10538791e+00  2.25762651e-01 -3.83670306e-01\n",
            "  -7.08601929e-01 -5.63315474e-01]\n",
            " [ 1.00000000e+00  6.09998823e-02  3.10919247e+00 -8.64549732e-01\n",
            "   6.02088279e-01 -9.64841748e-01  5.20577716e-01  6.23192602e-01\n",
            "  -4.98406993e-01  7.34300428e-01 -1.06329590e+00 -9.97897726e-01\n",
            "   6.89716458e-01 -1.16836928e+00]\n",
            " [ 1.00000000e+00 -1.23602833e+00  9.81730812e-01 -1.33974405e+00\n",
            "  -1.48624201e-01 -8.94628408e-01 -4.72867844e-01 -3.90813788e-01\n",
            "   6.56394314e-02  4.89008649e-01 -1.63428828e+00 -1.20429983e-01\n",
            "   6.19094317e-01 -5.82422436e-01]\n",
            " [ 1.00000000e+00  1.01215391e+00 -5.26343273e-01  1.95499132e-01\n",
            "  -1.65004916e+00  7.90491768e-01  2.53951547e+00  1.71751633e+00\n",
            "  -3.37250872e-01  4.89008649e-01  8.61640526e-01  2.30557114e-01\n",
            "   9.15707308e-01  1.41107064e+00]\n",
            " [ 1.00000000e+00  1.70390229e+00  1.12535692e+00 -3.16248596e-01\n",
            "  -1.04947918e+00  1.58571702e-01  1.53004659e+00  1.14525530e+00\n",
            "  -7.40141175e-01  1.04967557e+00 -6.83849376e-02  3.62177276e-01\n",
            "   1.16994702e+00  1.01300893e+00]\n",
            " [ 1.00000000e+00 -7.78980294e-01 -1.25345042e+00 -3.67916223e+00\n",
            "  -2.67101814e+00 -8.24415067e-01 -5.04914475e-01 -1.46505818e+00\n",
            "  -6.59563114e-01 -2.05151334e+00 -1.34446639e+00  4.06050663e-01\n",
            "  -1.11821035e+00 -7.22540161e-01]\n",
            " [ 1.00000000e+00 -7.78980294e-01 -1.08289442e+00 -7.54889505e-01\n",
            "  -1.48624201e-01 -8.94628408e-01  1.93062948e+00  1.07497763e+00\n",
            "  -1.38476566e+00  4.89008649e-01 -2.63041430e-01  1.15189824e+00\n",
            "   3.64854610e-01 -1.04098953e+00]\n",
            " [ 1.00000000e+00 -7.17217046e-01 -6.52016113e-01 -6.45229278e-01\n",
            "   9.02373272e-01  5.79851746e-01 -4.72867844e-01  6.09712375e-02\n",
            "  -1.76094750e-01  3.34667755e-02 -1.29688369e+00  4.49924050e-01\n",
            "   4.91974464e-01 -1.27982657e+00]\n",
            " [ 1.00000000e+00  6.04516467e-01 -6.07132956e-01 -4.62462232e-01\n",
            "   1.35280076e+00 -8.94628408e-01 -6.65147630e-01 -1.90020443e-01\n",
            "  -7.40141175e-01 -9.82742020e-01 -5.70166118e-01  9.89369528e-02\n",
            "   2.37734757e-01 -8.75395860e-01]\n",
            " [ 1.00000000e+00  1.08626980e+00  2.42696848e+00 -4.99015641e-01\n",
            "   1.51660791e-01 -1.38612179e+00 -2.10724602e+00 -1.69597053e+00\n",
            "   3.07373613e-01 -1.59597147e+00 -6.83849376e-02 -1.65599853e+00\n",
            "  -1.81030733e+00 -1.05691200e+00]\n",
            " [ 1.00000000e+00  1.46920194e+00 -6.69969376e-01  4.14819587e-01\n",
            "  -8.99336682e-01  5.79851746e-01  1.61016317e+00  1.90827001e+00\n",
            "  -3.37250872e-01  4.71487808e-01  1.57538100e+00  1.19577163e+00\n",
            "   2.94232470e-01  2.97147258e+00]\n",
            " [ 1.00000000e+00  4.80989970e-01 -5.08390010e-01  9.26567314e-01\n",
            "  -1.01945068e+00 -4.73348364e-01  8.89113972e-01  9.14342951e-01\n",
            "  -1.76094750e-01 -2.46866685e-01 -1.11641936e-01 -1.64303370e-01\n",
            "   8.59209596e-01  1.42699311e+00]\n",
            " [ 1.00000000e+00  1.65449169e+00 -5.89179693e-01  1.21899459e+00\n",
            "   1.65308575e+00 -1.22281661e-01  8.08997395e-01 -7.22122806e-01\n",
            "   1.35488840e+00  1.94323848e+00  3.43543192e+00 -1.69987192e+00\n",
            "  -9.20468352e-01 -2.76711037e-01]\n",
            " [ 1.00000000e+00 -4.45458753e-01 -8.76431899e-01 -1.26663723e+00\n",
            "  -8.09251184e-01  1.81450206e-02 -4.40821213e-01 -6.21726134e-01\n",
            "   1.35488840e+00 -1.70109651e+00  2.99299548e-01  9.89369528e-02\n",
            "  -1.44307219e+00 -9.45454722e-01]\n",
            " [ 1.00000000e+00 -9.64270039e-01 -9.39268319e-01 -1.55906451e+00\n",
            "  -1.48624201e-01 -5.43561704e-01  1.03971513e-01  1.07729013e-02\n",
            "   2.26795553e-01  8.56946317e-01 -1.02003890e+00 -4.27543693e-01\n",
            "   5.76721033e-01 -1.38491486e+00]\n",
            " [ 1.00000000e+00 -1.45837602e+00 -5.53273167e-01 -1.77838496e+00\n",
            "   1.51829490e-03 -9.64841748e-01  3.28297930e-01 -3.90813788e-01\n",
            "   6.56394314e-02 -2.99429209e-01 -1.29688369e+00 -7.65565958e-02\n",
            "  -2.42495800e-01 -1.05691200e+00]\n",
            " [ 1.00000000e+00  1.30861750e+00 -1.67278014e-01  8.90013905e-01\n",
            "  -5.69023190e-01  1.49262517e+00  4.88531085e-01  4.82637261e-01\n",
            "  -4.17828932e-01 -5.97283511e-01 -3.49944013e-03  4.49924050e-01\n",
            "   1.36768901e+00  1.74544249e+00]\n",
            " [ 1.00000000e+00  4.19226722e-01 -1.25345042e+00 -2.38213228e-02\n",
            "  -7.49194186e-01  7.20278427e-01  3.76367877e-01 -7.32162473e-01\n",
            "   1.51604452e+00 -2.05151334e+00 -8.16731008e-01  2.74430501e-01\n",
            "  -9.62841636e-01  9.89339909e-03]\n",
            " [ 1.00000000e+00 -1.49543397e+00 -1.85231277e-01  1.51142186e+00\n",
            "   2.70408323e+00 -5.43561704e-01 -2.64564743e-01  2.11566246e-01\n",
            "   1.75777870e+00  2.96279395e-01 -8.90267905e-01  5.50635657e-02\n",
            "  -2.42495800e-01 -8.94502823e-01]\n",
            " [ 1.00000000e+00  1.50625989e+00 -5.71226430e-01 -2.43141777e-01\n",
            "  -9.59393680e-01  1.28198515e+00  1.44993001e+00  9.74580955e-01\n",
            "  -8.20719236e-01  7.69342110e-01  5.71818637e-01 -7.65565958e-02\n",
            "   9.86329449e-01  7.10482022e-01]\n",
            " [ 1.00000000e+00 -7.17217046e-01  1.87939396e+00  1.32865481e+00\n",
            "   2.10351324e+00  1.58571702e-01 -1.52401534e-01  1.01129906e-01\n",
            "   5.49107795e-01  2.08675189e-01 -1.28823229e+00 -1.64303370e-01\n",
            "   7.17965314e-01 -1.21613669e+00]\n",
            " [ 1.00000000e+00  2.95700226e-01  1.47544554e+00 -2.79695187e-01\n",
            "  -5.99051690e-01  2.28785042e-01  5.52624347e-01  6.03113268e-01\n",
            "  -3.37250872e-01  1.21070982e-01 -3.01972728e-01 -6.03037242e-01\n",
            "   5.48472176e-01 -2.13021163e-01]\n",
            " [ 1.00000000e+00  7.15690314e-01 -6.07132956e-01 -2.38213228e-02\n",
            "  -1.18595702e-01  4.39425064e-01  9.05137288e-01  1.16533463e+00\n",
            "  -1.14303148e+00  6.29175380e-01  7.96755028e-01  5.81544212e-01\n",
            "   3.78979039e-01  2.44603111e+00]\n",
            " [ 1.00000000e+00  4.43932021e-01  2.00763875e-01 -6.03747319e-02\n",
            "   1.51660791e-01 -7.54201726e-01 -1.43426677e+00 -1.53533585e+00\n",
            "   6.56394314e-02 -1.66605483e+00  2.34414051e-01 -1.12951789e+00\n",
            "  -2.00122516e-01  1.05428211e-01]\n",
            " [ 1.00000000e+00  1.25920690e+00 -5.89179693e-01 -5.72122459e-01\n",
            "  -1.04947918e+00 -2.62708342e-01  5.68647662e-01  3.01923251e-01\n",
            "  -8.20719236e-01  6.81737904e-01 -1.54898934e-01  3.62177276e-01\n",
            "   1.38181344e+00  9.17474115e-01]\n",
            " [ 1.00000000e+00  7.65100912e-01  2.34617879e+00 -6.03747319e-02\n",
            "   1.51660791e-01 -5.43561704e-01 -4.72867844e-01 -1.23414583e+00\n",
            "   8.71420038e-01 -1.00026286e+00 -2.84669929e-01 -2.08176757e-01\n",
            "  -7.93348498e-01 -6.27005349e-01]\n",
            " [ 1.00000000e+00  3.45110824e-01 -6.25086219e-01  1.73074231e+00\n",
            "  -1.19962167e+00  7.20278427e-01  4.88531085e-01  6.53311604e-01\n",
            "  -1.76094750e-01 -4.04554257e-01 -1.98155932e-01  5.81544212e-01\n",
            "   2.37734757e-01  4.23877585e-01]\n",
            " [ 1.00000000e+00 -6.80159097e-01  6.22665554e-01  9.99674132e-01\n",
            "   2.25365574e+00 -1.92495001e-01 -6.33100999e-01 -1.45501851e+00\n",
            "   2.16066901e+00 -7.90012766e-01  1.05629702e+00 -1.26113805e+00\n",
            "  -1.24533020e+00  4.23877585e-01]\n",
            " [ 1.00000000e+00  6.09998823e-02  1.36772596e+00 -1.70034959e-01\n",
            "   9.02373272e-01 -1.03505509e+00 -1.03368389e+00 -4.41012124e-01\n",
            "   1.99951289e+00  5.09876168e-02 -1.11641936e-01 -5.15290467e-01\n",
            "  -8.49846211e-01 -7.38462629e-01]\n",
            " [ 1.00000000e+00  2.95700226e-01  2.27693770e-01  1.84040254e+00\n",
            "   4.51945783e-01  1.28198515e+00  8.08997395e-01  6.63351271e-01\n",
            "   2.26795553e-01  4.01404443e-01 -3.19275528e-01  3.62177276e-01\n",
            "   4.49601179e-01 -3.78740070e-02]]\n"
          ]
        }
      ]
    },
    {
      "cell_type": "markdown",
      "source": [
        "A continuación realizamos las predicciones según lo que obtuvimos en el entrenamiento."
      ],
      "metadata": {
        "id": "ySqT1h8pAYyp"
      }
    },
    {
      "cell_type": "code",
      "source": [
        "y_pred = sigmoid_function(X_test.dot(theta))"
      ],
      "metadata": {
        "id": "y93qFMfl4f7X"
      },
      "execution_count": 176,
      "outputs": []
    },
    {
      "cell_type": "markdown",
      "source": [
        "A continuación evaluamos la eficacia de nuestro modelo comparando nuestras predicciones contra los valores de y_test"
      ],
      "metadata": {
        "id": "jx5N72KMAhcQ"
      }
    },
    {
      "cell_type": "code",
      "source": [
        "def classify(x): # Convertir el valor continuo en uno binario, 0 o 1\n",
        "  if x > 0.5:\n",
        "    return 1\n",
        "  return 0\n",
        "\n",
        "def evaluate(y_test, y_pred):\n",
        "  correct = 0\n",
        "  for i in range(len(y_test)):\n",
        "    print('Actual value:\\t\\t', y_test[i])\n",
        "    print('Predicted value:\\t', classify(y_pred[i]))\n",
        "    print('Full predicted value: \\t', y_pred[i])\n",
        "    print('Correct?:\\t\\t', (y_test[i] == classify(y_pred[i])))\n",
        "    print()\n",
        "\n",
        "    if y_test[i] == classify(y_pred[i]): correct += 1\n",
        "\n",
        "  print('---')\n",
        "  print('Correct: ', correct, '/', len(y_test))\n",
        "  print('Accuracy:', (correct/len(y_test))*100, '%')\n",
        "\n",
        "evaluate(y_test, y_pred)"
      ],
      "metadata": {
        "colab": {
          "base_uri": "https://localhost:8080/"
        },
        "id": "3_vxoKs35ekt",
        "outputId": "241cdb00-db37-448d-acde-f63715511b8e"
      },
      "execution_count": 177,
      "outputs": [
        {
          "output_type": "stream",
          "name": "stdout",
          "text": [
            "Actual value:\t\t 0\n",
            "Predicted value:\t 0\n",
            "Full predicted value: \t [0.49364655]\n",
            "Correct?:\t\t True\n",
            "\n",
            "Actual value:\t\t 0\n",
            "Predicted value:\t 0\n",
            "Full predicted value: \t [0.29780825]\n",
            "Correct?:\t\t True\n",
            "\n",
            "Actual value:\t\t 0\n",
            "Predicted value:\t 1\n",
            "Full predicted value: \t [0.6157181]\n",
            "Correct?:\t\t False\n",
            "\n",
            "Actual value:\t\t 0\n",
            "Predicted value:\t 1\n",
            "Full predicted value: \t [0.68944528]\n",
            "Correct?:\t\t False\n",
            "\n",
            "Actual value:\t\t 0\n",
            "Predicted value:\t 0\n",
            "Full predicted value: \t [0.02620235]\n",
            "Correct?:\t\t True\n",
            "\n",
            "Actual value:\t\t 1\n",
            "Predicted value:\t 1\n",
            "Full predicted value: \t [0.80135226]\n",
            "Correct?:\t\t True\n",
            "\n",
            "Actual value:\t\t 1\n",
            "Predicted value:\t 0\n",
            "Full predicted value: \t [0.28020133]\n",
            "Correct?:\t\t False\n",
            "\n",
            "Actual value:\t\t 0\n",
            "Predicted value:\t 1\n",
            "Full predicted value: \t [0.94325695]\n",
            "Correct?:\t\t False\n",
            "\n",
            "Actual value:\t\t 0\n",
            "Predicted value:\t 0\n",
            "Full predicted value: \t [0.18930678]\n",
            "Correct?:\t\t True\n",
            "\n",
            "Actual value:\t\t 0\n",
            "Predicted value:\t 1\n",
            "Full predicted value: \t [0.99830432]\n",
            "Correct?:\t\t False\n",
            "\n",
            "Actual value:\t\t 0\n",
            "Predicted value:\t 1\n",
            "Full predicted value: \t [0.99721822]\n",
            "Correct?:\t\t False\n",
            "\n",
            "Actual value:\t\t 0\n",
            "Predicted value:\t 0\n",
            "Full predicted value: \t [8.29582816e-06]\n",
            "Correct?:\t\t True\n",
            "\n",
            "Actual value:\t\t 0\n",
            "Predicted value:\t 1\n",
            "Full predicted value: \t [0.83272861]\n",
            "Correct?:\t\t False\n",
            "\n",
            "Actual value:\t\t 0\n",
            "Predicted value:\t 0\n",
            "Full predicted value: \t [0.33874675]\n",
            "Correct?:\t\t True\n",
            "\n",
            "Actual value:\t\t 0\n",
            "Predicted value:\t 0\n",
            "Full predicted value: \t [0.44180694]\n",
            "Correct?:\t\t True\n",
            "\n",
            "Actual value:\t\t 1\n",
            "Predicted value:\t 0\n",
            "Full predicted value: \t [0.01411351]\n",
            "Correct?:\t\t False\n",
            "\n",
            "Actual value:\t\t 0\n",
            "Predicted value:\t 1\n",
            "Full predicted value: \t [0.99800967]\n",
            "Correct?:\t\t False\n",
            "\n",
            "Actual value:\t\t 0\n",
            "Predicted value:\t 1\n",
            "Full predicted value: \t [0.99557474]\n",
            "Correct?:\t\t False\n",
            "\n",
            "Actual value:\t\t 1\n",
            "Predicted value:\t 1\n",
            "Full predicted value: \t [0.9979869]\n",
            "Correct?:\t\t True\n",
            "\n",
            "Actual value:\t\t 0\n",
            "Predicted value:\t 0\n",
            "Full predicted value: \t [0.00434995]\n",
            "Correct?:\t\t True\n",
            "\n",
            "Actual value:\t\t 0\n",
            "Predicted value:\t 0\n",
            "Full predicted value: \t [0.32129989]\n",
            "Correct?:\t\t True\n",
            "\n",
            "Actual value:\t\t 0\n",
            "Predicted value:\t 0\n",
            "Full predicted value: \t [0.02582804]\n",
            "Correct?:\t\t True\n",
            "\n",
            "Actual value:\t\t 0\n",
            "Predicted value:\t 1\n",
            "Full predicted value: \t [0.99045242]\n",
            "Correct?:\t\t False\n",
            "\n",
            "Actual value:\t\t 0\n",
            "Predicted value:\t 0\n",
            "Full predicted value: \t [0.1126289]\n",
            "Correct?:\t\t True\n",
            "\n",
            "Actual value:\t\t 0\n",
            "Predicted value:\t 1\n",
            "Full predicted value: \t [0.98107491]\n",
            "Correct?:\t\t False\n",
            "\n",
            "Actual value:\t\t 0\n",
            "Predicted value:\t 1\n",
            "Full predicted value: \t [0.99048426]\n",
            "Correct?:\t\t False\n",
            "\n",
            "Actual value:\t\t 0\n",
            "Predicted value:\t 1\n",
            "Full predicted value: \t [0.98855919]\n",
            "Correct?:\t\t False\n",
            "\n",
            "Actual value:\t\t 0\n",
            "Predicted value:\t 1\n",
            "Full predicted value: \t [0.92061658]\n",
            "Correct?:\t\t False\n",
            "\n",
            "Actual value:\t\t 0\n",
            "Predicted value:\t 1\n",
            "Full predicted value: \t [0.97996605]\n",
            "Correct?:\t\t False\n",
            "\n",
            "Actual value:\t\t 1\n",
            "Predicted value:\t 0\n",
            "Full predicted value: \t [0.09111647]\n",
            "Correct?:\t\t False\n",
            "\n",
            "Actual value:\t\t 0\n",
            "Predicted value:\t 1\n",
            "Full predicted value: \t [0.9682535]\n",
            "Correct?:\t\t False\n",
            "\n",
            "Actual value:\t\t 1\n",
            "Predicted value:\t 0\n",
            "Full predicted value: \t [0.2507083]\n",
            "Correct?:\t\t False\n",
            "\n",
            "Actual value:\t\t 0\n",
            "Predicted value:\t 1\n",
            "Full predicted value: \t [0.98838438]\n",
            "Correct?:\t\t False\n",
            "\n",
            "Actual value:\t\t 1\n",
            "Predicted value:\t 1\n",
            "Full predicted value: \t [0.50504164]\n",
            "Correct?:\t\t True\n",
            "\n",
            "Actual value:\t\t 0\n",
            "Predicted value:\t 1\n",
            "Full predicted value: \t [0.59228079]\n",
            "Correct?:\t\t False\n",
            "\n",
            "Actual value:\t\t 0\n",
            "Predicted value:\t 1\n",
            "Full predicted value: \t [0.99790643]\n",
            "Correct?:\t\t False\n",
            "\n",
            "---\n",
            "Correct:  14 / 36\n",
            "Accuracy: 38.88888888888889 %\n"
          ]
        }
      ]
    },
    {
      "cell_type": "markdown",
      "source": [
        "Al analizar los resultados, el modelo no fue nada bueno prediciendo. Al ejecutar el código muchas veces, el mejor accuracy que obtuve fue de 75%, sin embargo, el resto del tiempo obtengo valores por debajo del 50%. El entrenamiento del modelo está realizado de forma correcta. Quizás las fallas para predecir los resultados se deben al bajo nivel de entrenamiento del modelo, ya que solo cuenta con 142 registros en total. Al dividir estos datos en conjuntos de entrenamiento y prueba, solo quedan 108 registros para entrenar al modelo. Independientemente de la cantidad de epochs por las que entrenemos al modelo, si la cantidad de datos de entrenamiento no es suficientemente grande el modelo no logrará ser preciso."
      ],
      "metadata": {
        "id": "GUEOW8QNBHSq"
      }
    },
    {
      "cell_type": "code",
      "source": [],
      "metadata": {
        "id": "SznZ7wj-CUiy"
      },
      "execution_count": null,
      "outputs": []
    }
  ]
}